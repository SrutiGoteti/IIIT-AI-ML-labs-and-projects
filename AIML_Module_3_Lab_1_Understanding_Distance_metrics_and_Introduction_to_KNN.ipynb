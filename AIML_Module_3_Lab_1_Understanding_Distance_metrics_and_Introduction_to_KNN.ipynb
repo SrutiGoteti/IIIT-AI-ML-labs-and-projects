{
  "nbformat": 4,
  "nbformat_minor": 0,
  "metadata": {
    "colab": {
      "provenance": [],
      "authorship_tag": "ABX9TyP+WEBzFz/yFLJ5vFfBvSEg",
      "include_colab_link": true
    },
    "kernelspec": {
      "name": "python3",
      "display_name": "Python 3"
    },
    "language_info": {
      "name": "python"
    }
  },
  "cells": [
    {
      "cell_type": "markdown",
      "metadata": {
        "id": "view-in-github",
        "colab_type": "text"
      },
      "source": [
        "<a href=\"https://colab.research.google.com/github/SrutiGoteti/IIIT-AI-ML-labs-and-projects/blob/main/AIML_Module_3_Lab_1_Understanding_Distance_metrics_and_Introduction_to_KNN.ipynb\" target=\"_parent\"><img src=\"https://colab.research.google.com/assets/colab-badge.svg\" alt=\"Open In Colab\"/></a>"
      ]
    },
    {
      "cell_type": "code",
      "execution_count": 4,
      "metadata": {
        "id": "6HxN3VwMujmY"
      },
      "outputs": [],
      "source": [
        "# Importing Required Libraries\n",
        "import numpy as np\n",
        "import pandas as pd\n",
        "import math\n",
        "from scipy.spatial import distance\n",
        "import matplotlib.pyplot as plt"
      ]
    },
    {
      "cell_type": "code",
      "source": [
        "import random\n",
        "import scipy.stats as ss\n",
        "from sklearn.neighbors import KNeighborsClassifier"
      ],
      "metadata": {
        "id": "CeB832U-vEG2"
      },
      "execution_count": 5,
      "outputs": []
    },
    {
      "cell_type": "code",
      "source": [
        "def generate_synth_data(n = 50):\n",
        "    points = np.concatenate((ss.norm(0, 1).rvs((n, 2)), ss.norm(1, 1).rvs((n, 2))), axis = 0)\n",
        "    outcomes = np.concatenate((np.repeat(0, n), np.repeat(1, n)))\n",
        "    return (points, outcomes)\n",
        "\n",
        "n = 50\n",
        "pts,tgts = generate_synth_data(n) #generates 100 points\n",
        "# print(tgts)\n",
        "plt.figure()\n",
        "plt.plot(pts[:n, 0], pts[:n, 1], \"ro\")\n",
        "plt.plot(pts[n:, 0], pts[n:, 1], \"bo\")\n",
        "plt.show()"
      ],
      "metadata": {
        "colab": {
          "base_uri": "https://localhost:8080/",
          "height": 430
        },
        "id": "ohJ7Zm_guxDK",
        "outputId": "8317fdac-8dce-4dbc-cf04-c43f8dc1ff21"
      },
      "execution_count": 6,
      "outputs": [
        {
          "output_type": "display_data",
          "data": {
            "text/plain": [
              "<Figure size 640x480 with 1 Axes>"
            ],
            "image/png": "[encoded data removed]"
          },
          "metadata": {}
        }
      ]
    },
    {
      "cell_type": "code",
      "source": [
        "n = 15\n",
        "test_pts,test_tgts = generate_synth_data(n)\n",
        "# print(test_tgts)\n",
        "plt.figure()\n",
        "plt.plot(test_pts[:n, 0], test_pts[:n, 1], \"ro\")\n",
        "plt.plot(test_pts[n:, 0], test_pts[n:, 1], \"bo\")\n",
        "plt.show()"
      ],
      "metadata": {
        "colab": {
          "base_uri": "https://localhost:8080/",
          "height": 430
        },
        "id": "8dzSxDnrvQ5E",
        "outputId": "f0f9939a-3b59-4dc3-eca4-acc986397544"
      },
      "execution_count": 7,
      "outputs": [
        {
          "output_type": "display_data",
          "data": {
            "text/plain": [
              "<Figure size 640x480 with 1 Axes>"
            ],
            "image/png": "[encoded data removed]"
          },
          "metadata": {}
        }
      ]
    },
    {
      "cell_type": "code",
      "source": [
        "from sklearn.neighbors import KNeighborsClassifier\n",
        "import numpy as np\n",
        "\n",
        "metrics = [\n",
        "    ('euclidean', {}),\n",
        "    ('manhattan', {}),\n",
        "    ('chebyshev', {}),\n",
        "    ('minkowski', {'p': 3}),\n",
        "    ('minkowski', {'p': 1}),\n",
        "    ('hamming', {})\n",
        "]\n",
        "\n",
        "for metric_name, params in metrics:\n",
        "    print(f\"\\nUsing metric: {metric_name} {params}\")\n",
        "\n",
        "    knn = KNeighborsClassifier(n_neighbors=3, metric=metric_name, **params)\n",
        "    knn.fit(pts, tgts)\n",
        "    our_predictions = knn.predict(test_pts)\n",
        "    accuracy = 100 * np.mean(our_predictions == test_tgts)\n",
        "    print(f\"Prediction Accuracy: {accuracy:.2f}%\")\n"
      ],
      "metadata": {
        "colab": {
          "base_uri": "https://localhost:8080/"
        },
        "id": "GFqVmBCYvXoL",
        "outputId": "1a8e532f-3bbf-4981-b61f-486a26c76193"
      },
      "execution_count": 8,
      "outputs": [
        {
          "output_type": "stream",
          "name": "stdout",
          "text": [
            "\n",
            "Using metric: euclidean {}\n",
            "Prediction Accuracy: 90.00%\n",
            "\n",
            "Using metric: manhattan {}\n",
            "Prediction Accuracy: 90.00%\n",
            "\n",
            "Using metric: chebyshev {}\n",
            "Prediction Accuracy: 83.33%\n",
            "\n",
            "Using metric: minkowski {'p': 3}\n",
            "Prediction Accuracy: 86.67%\n",
            "\n",
            "Using metric: minkowski {'p': 1}\n",
            "Prediction Accuracy: 90.00%\n",
            "\n",
            "Using metric: hamming {}\n",
            "Prediction Accuracy: 50.00%\n"
          ]
        }
      ]
    },
    {
      "cell_type": "markdown",
      "source": [
        "Metrics like Hamming are not appropriate here because you’re working with continuous numeric data, not binary or categorical labels."
      ],
      "metadata": {
        "id": "uZrKeyxkwZVY"
      }
    },
    {
      "cell_type": "markdown",
      "source": [
        "---\n",
        "### Questions to Think About and Answer:\n",
        "\n",
        "1. How are similarity and distance different from each other?  \n",
        "\n",
        "2. Are there any conditions for a particular distance to be considered a \"distance metric\"?\n",
        "\n"
      ],
      "metadata": {
        "id": "_Oczz1KU_ES-"
      }
    },
    {
      "cell_type": "markdown",
      "source": [
        "### Q1. How are similarity and distance different from each other?\n",
        "\n",
        "| **Aspect**           | **Similarity**                                      | **Distance**                                         |\n",
        "|----------------------|------------------------------------------------------|------------------------------------------------------|\n",
        "| **Definition**        | Measures how **alike** two objects are               | Measures how **different** or **far apart** two objects are |\n",
        "| **Value Range**       | Typically **higher** means more similar (e.g., cosine similarity ranges from -1 to 1 or 0 to 1) | Typically **lower** means more similar (distance of 0 means identical) |\n",
        "| **Usage**             | Clustering, recommendation systems (e.g., item similarity) | KNN, clustering, anomaly detection (based on dissimilarity) |\n",
        "| **Examples**          | Cosine similarity, Jaccard similarity                | Euclidean, Manhattan, Chebyshev, etc.                |\n",
        "| **Intuition**         | Closeness in terms of **shared properties or patterns** | Closeness in terms of **physical or geometric separation** |\n",
        "\n",
        "\n",
        "\n",
        "---\n",
        "\n",
        "### Q2. Are there any conditions for a particular distance to be considered a \"distance metric\"?\n",
        "\n",
        "Yes, to qualify as a proper **distance metric**, a function must satisfy the following **four conditions (metric axioms)**:\n",
        "\n",
        "Let d(x, y) be a distance function. It must satisfy:\n",
        "\n",
        "| **Property**                  | **Description**                                                        | **Mathematical Form**                       |\n",
        "|------------------------------|------------------------------------------------------------------------|---------------------------------------------|\n",
        "| **1. Non-negativity**         | Distance is always zero or positive                                    | `d(x, y) ≥ 0`                               |\n",
        "| **2. Identity of indiscernibles** | Distance is zero **iff** both points are the same                      | `d(x, y) = 0` **if and only if** `x = y`    |\n",
        "| **3. Symmetry**               | Distance from `x` to `y` is the same as from `y` to `x`                 | `d(x, y) = d(y, x)`                         |\n",
        "| **4. Triangle Inequality**    | Going directly is always shorter than going via another point          | `d(x, z) ≤ d(x, y) + d(y, z)`               |\n",
        "\n"
      ],
      "metadata": {
        "id": "Ft1059XtAOsw"
      }
    }
  ]
}