{
  "nbformat": 4,
  "nbformat_minor": 0,
  "metadata": {
    "colab": {
      "provenance": [],
      "authorship_tag": "ABX9TyNwsl6QW0H2/vmNI/fcv/YP",
      "include_colab_link": true
    },
    "kernelspec": {
      "name": "python3",
      "display_name": "Python 3"
    },
    "language_info": {
      "name": "python"
    }
  },
  "cells": [
    {
      "cell_type": "markdown",
      "metadata": {
        "id": "view-in-github",
        "colab_type": "text"
      },
      "source": [
        "<a href=\"https://colab.research.google.com/github/SrutiGoteti/IIIT-AI-ML-labs-and-projects/blob/main/AIML_Project_Module_2.ipynb\" target=\"_parent\"><img src=\"https://colab.research.google.com/assets/colab-badge.svg\" alt=\"Open In Colab\"/></a>"
      ]
    },
    {
      "cell_type": "code",
      "execution_count": null,
      "metadata": {
        "id": "my2BiEtuxnyG"
      },
      "outputs": [],
      "source": [
        "from google.colab import files"
      ]
    },
    {
      "cell_type": "code",
      "source": [
        "# Upload Module2_ProjectFiles.zip file here by running this cell\n",
        "\n",
        "uploaded = files.upload()\n",
        "loc_ = list(uploaded.keys())[0]\n",
        "!unzip -q {loc_}"
      ],
      "metadata": {
        "id": "-6GyZHoWxto0"
      },
      "execution_count": null,
      "outputs": []
    },
    {
      "cell_type": "code",
      "source": [
        "!pip3 -q install biopython\n",
        "\n",
        "import pandas as pd\n",
        "import numpy as np\n",
        "from Bio import SeqIO\n",
        "from tqdm.autonotebook import tqdm"
      ],
      "metadata": {
        "id": "q993ISHCyv6c"
      },
      "execution_count": null,
      "outputs": []
    },
    {
      "cell_type": "code",
      "source": [
        "data = pd.read_csv(\"INDIA_685.csv\")\n",
        "data.tail()"
      ],
      "metadata": {
        "id": "RR0C5He1y47M"
      },
      "execution_count": null,
      "outputs": []
    },
    {
      "cell_type": "code",
      "source": [
        "fasta_sequences = SeqIO.parse(open(\"sequences.fasta\"),'fasta')\n",
        "\n",
        "counter = 0\n",
        "for fasta in fasta_sequences:\n",
        "    counter +=1\n",
        "\n",
        "print(\"Number of sequences is:\", counter)"
      ],
      "metadata": {
        "id": "R3aVFP4pzKYZ"
      },
      "execution_count": null,
      "outputs": []
    },
    {
      "cell_type": "code",
      "source": [
        "def calc_score(examplesequence):\n",
        "\n",
        "    position = 0\n",
        "    score = 0\n",
        "    value = 0\n",
        "    flag = 0\n",
        "\n",
        "    for base in examplesequence:\n",
        "\n",
        "        if(base == \"A\" or base == \"a\"):\n",
        "            value = 0\n",
        "        elif(base == \"G\" or base == \"g\"):\n",
        "            value = 1\n",
        "        elif(base == \"T\" or base == \"t\"):\n",
        "            value = 2\n",
        "        elif(base == \"C\" or base == \"c\"):\n",
        "            value = 3\n",
        "        else:\n",
        "            flag=1\n",
        "\n",
        "        score += (4 ** position)* value\n",
        "        position+=1\n",
        "\n",
        "    return (flag,score)\n"
      ],
      "metadata": {
        "id": "RXa3vh341O0J"
      },
      "execution_count": null,
      "outputs": []
    },
    {
      "cell_type": "code",
      "source": [
        "k=7\n",
        "big_matrix = []\n",
        "sequences_name = []\n",
        "\n",
        "fasta_sequences = SeqIO.parse(open(\"sequences.fasta\"),'fasta')\n",
        "\n",
        "for fasta in tqdm(fasta_sequences):\n",
        "\n",
        "    embedding = np.zeros(4**k, dtype=int)\n",
        "    sequence = str(fasta.seq)\n",
        "    sequence_name = fasta.id\n",
        "    sequences_name.append(sequence_name)\n",
        "\n",
        "    for j in range(len(sequence)-k+1):\n",
        "        kmer = sequence[j:j+k]\n",
        "        flag,score = calc_score(kmer)\n",
        "        if(flag!=1):\n",
        "            embedding[score]+=1\n",
        "\n",
        "    embedding = embedding.tolist()\n",
        "    big_matrix.append(embedding)"
      ],
      "metadata": {
        "id": "YL8wxuSL2sj8"
      },
      "execution_count": null,
      "outputs": []
    },
    {
      "cell_type": "code",
      "source": [
        "print(\"Number of sequences:\", len(sequences_name))\n",
        "print(\"Number of features for each sequence:\", len(big_matrix[0]))"
      ],
      "metadata": {
        "id": "NWFVsu2u3BW4"
      },
      "execution_count": null,
      "outputs": []
    },
    {
      "cell_type": "code",
      "source": [
        "from sklearn.decomposition import PCA\n",
        "\n",
        "pca = PCA() # create a PCA object\n",
        "pca.fit(big_matrix) # do the math\n",
        "pca_data = pca.transform(big_matrix) # get PCA coordinates for the matrix"
      ],
      "metadata": {
        "id": "i_4j9hBG-v6b"
      },
      "execution_count": null,
      "outputs": []
    },
    {
      "cell_type": "code",
      "source": [
        "import matplotlib.pyplot as plt\n",
        "\n",
        "per_var = np.round(pca.explained_variance_ratio_* 100, decimals=1)\n",
        "labels_all = ['PC'+str(x) for x in range(1, len(per_var)+1)]\n",
        "per_var=per_var[:10]\n",
        "labels = [str(x) for x in range(1, len(per_var)+1)]\n",
        "\n",
        "with plt.style.context('dark_background'):\n",
        "    plt.figure(figsize = (15, 9))\n",
        "    plt.xlabel(\"Number of Principal Components\")\n",
        "    plt.ylabel(\"Percentage of variance explained\")\n",
        "    plt.bar(range(1,len(per_var)+1), per_var, tick_label=labels, color = \"aqua\")\n",
        "    plt.plot(range(1,len(per_var)+1), np.cumsum(per_var), color = \"red\")\n",
        "    plt.scatter(range(1,len(per_var)+1), np.cumsum(per_var), color = \"yellow\")"
      ],
      "metadata": {
        "id": "7asFskH6-3fK"
      },
      "execution_count": null,
      "outputs": []
    },
    {
      "cell_type": "code",
      "source": [
        "final_df = pd.DataFrame(columns=[\"StrainID\", \"PC1\", \"PC2\", \"PC3\", \"State\"])\n",
        "pca_df = pd.DataFrame(pca_data, index=[*sequences_name], columns = labels_all)\n",
        "\n",
        "for sample in pca_df.index:\n",
        "\n",
        "    dicti = dict()\n",
        "\n",
        "    dicti[\"StrainID\"] = sample\n",
        "    dicti[\"PC1\"] = pca_df.PC1.loc[sample]\n",
        "    dicti[\"PC2\"] = pca_df.PC2.loc[sample]\n",
        "    dicti[\"PC3\"] = pca_df.PC3.loc[sample]\n",
        "    dicti[\"State\"] = data[data[\"StrainID\"]==sample][\"State\"].tolist()[0]\n",
        "\n",
        "    final_df = pd.concat([final_df, pd.DataFrame([dicti])], ignore_index=True)\n",
        "\n",
        "final_df.head()"
      ],
      "metadata": {
        "id": "lOKZiugiDl7X"
      },
      "execution_count": null,
      "outputs": []
    },
    {
      "cell_type": "code",
      "source": [
        "import plotly.graph_objs as go\n",
        "import plotly.express as px"
      ],
      "metadata": {
        "id": "4H8jbcGvEW43"
      },
      "execution_count": null,
      "outputs": []
    },
    {
      "cell_type": "code",
      "source": [
        "for_x = final_df.PC1.tolist()\n",
        "for_y = final_df.PC2.tolist()\n",
        "for_states = final_df.State.tolist()\n",
        "for_hover = final_df.StrainID.tolist()\n",
        "\n",
        "fig = px.scatter(x=for_x, y=for_y, color=for_states, title=\"Principal Component Axis\",\n",
        "                color_discrete_map={\n",
        "                \"Stateless\": \"grey\",\n",
        "                \"Tamil Nadu\": \"green\",\n",
        "                \"Telangana\": \"red\",\n",
        "                \"Maharashtra\": \"orange\",\n",
        "                \"Gujarat\": \"magenta\",\n",
        "                \"Delhi\": \"purple\",\n",
        "                \"West Bengal\": \"aqua\",\n",
        "                \"Haryana\": \"pink\",\n",
        "                \"Odisha\": \"blue\",\n",
        "                \"Madhya Pradesh\": \"brown\",\n",
        "                \"Karnataka\": \"black\"\n",
        "                })\n",
        "\n",
        "fig.show(renderer = \"colab\")"
      ],
      "metadata": {
        "id": "i9nOst2zEksU"
      },
      "execution_count": null,
      "outputs": []
    },
    {
      "cell_type": "code",
      "source": [
        "from sklearn.manifold import TSNE\n",
        "\n",
        "# Use these parameters\n",
        "random_state = 0\n",
        "n_components = 2\n",
        "perplexity = 30\n",
        "n_iter = 10000\n",
        "\n",
        "####### Enter code below #######\n",
        "\n",
        "model = TSNE(n_components=2, random_state=random_state, perplexity=perplexity, n_iter=n_iter)\n",
        "tsne_data = model.fit_transform(np.array(big_matrix))\n",
        "\n",
        "################################"
      ],
      "metadata": {
        "id": "YAUZKstNKvY5"
      },
      "execution_count": null,
      "outputs": []
    },
    {
      "cell_type": "code",
      "source": [
        "final_df = pd.DataFrame(columns=[\"StrainID\", \"X\", \"Y\", \"State\"])\n",
        "pca_df = pd.DataFrame(pca_data, index=[*sequences_name], columns = labels_all)\n",
        "\n",
        "i = 0\n",
        "for sample in pca_df.index:\n",
        "\n",
        "    dicti = dict()\n",
        "\n",
        "    dicti[\"StrainID\"] = sample\n",
        "    dicti[\"X\"] = tsne_data[i][0]\n",
        "    dicti[\"Y\"] = tsne_data[i][1]\n",
        "    dicti[\"State\"] = data[data[\"StrainID\"]==sample][\"State\"].tolist()[0]\n",
        "\n",
        "    final_df = pd.concat([final_df, pd.DataFrame([dicti])], ignore_index=True)\n",
        "    i+=1\n",
        "\n",
        "final_df.tail()"
      ],
      "metadata": {
        "id": "yDj0CenEK_Nh"
      },
      "execution_count": null,
      "outputs": []
    },
    {
      "cell_type": "code",
      "source": [
        "for_x = final_df.X.tolist()\n",
        "for_y = final_df.Y.tolist()\n",
        "for_states = final_df.State.tolist()\n",
        "for_hover = final_df.StrainID.tolist()\n",
        "\n",
        "fig = px.scatter(x=for_x, y=for_y, color=for_states, title=\"t-SNE\", height=600, width=1000,\n",
        "                color_discrete_map={\n",
        "                \"Stateless\": \"grey\",\n",
        "                \"Tamil Nadu\": \"green\",\n",
        "                \"Telangana\": \"red\",\n",
        "                \"Maharashtra\": \"orange\",\n",
        "                \"Gujarat\": \"magenta\",\n",
        "                \"Delhi\": \"purple\",\n",
        "                \"West Bengal\": \"aqua\",\n",
        "                \"Haryana\": \"pink\",\n",
        "                \"Odisha\": \"blue\",\n",
        "                \"Madhya Pradesh\": \"brown\",\n",
        "                \"Karnataka\": \"black\"})\n",
        "\n",
        "fig.show(renderer = 'colab')"
      ],
      "metadata": {
        "id": "7p12-7QRLQU7"
      },
      "execution_count": null,
      "outputs": []
    },
    {
      "cell_type": "markdown",
      "source": [
        "Answers to these questions:\n",
        "\n",
        "Does making the 3 observations become easier in this plot? Can you make any other new observations from this plot?\n",
        "\n",
        "Make sure you tweak the parameters to find out if a certain different setting is allowing you to get a more interpretable plot."
      ],
      "metadata": {
        "id": "cHj_T030vVc1"
      }
    },
    {
      "cell_type": "markdown",
      "source": [
        "Observation 1: Odisha (Blue) scattered from the main cluster\n",
        "\n",
        "Yes, this is even more obvious now. Odisha (dark blue) forms a clear band separated on the far right side of the plot — strongly suggesting a different mutational profile compared to the main body of samples."
      ],
      "metadata": {
        "id": "aPkV0rXmwUKg"
      }
    },
    {
      "cell_type": "markdown",
      "source": [
        "Observation 2: Secondary cluster of Telangana (Red), Delhi (Purple), and Tamil Nadu (Green)\n",
        "\n",
        "This secondary cluster is much clearer in the upper portion of the plot:\n",
        "\n",
        "You can see a concentrated cluster containing mostly red (Telangana), purple (Delhi), and some green (Tamil Nadu) — this supports the hypothesis that these states shared a common viral strain lineage.\n",
        "\n",
        "Their separation from other states is better captured than in the PCA plot."
      ],
      "metadata": {
        "id": "GeK7qY17wX56"
      }
    },
    {
      "cell_type": "markdown",
      "source": [
        "Observation 3: Dense Gujarat (Pink) cluster within main cluster\n",
        "\n",
        "Yes, Gujarat (pink/magenta) points are still densely packed, especially in the lower half of the central and lower-right regions of the plot."
      ],
      "metadata": {
        "id": "VYQ-393Ewo-v"
      }
    },
    {
      "cell_type": "markdown",
      "source": [
        " All three PCA-based observations are even easier to interpret with t-SNE due to better local clustering and spread."
      ],
      "metadata": {
        "id": "PtzobRlIx3VG"
      }
    },
    {
      "cell_type": "markdown",
      "source": [
        "Gujurat’s pink dots are widely spread across the plot, with no strong cluster. This may suggest:\n",
        "\n",
        "Multiple sources of viral introduction\n",
        "\n",
        "High genomic diversity"
      ],
      "metadata": {
        "id": "oTWwymyHx7xa"
      }
    },
    {
      "cell_type": "markdown",
      "source": [
        "Karnataka (black dots at bottom-left)\n",
        "There is a small, tight cluster of black points near X ≈ -15, Y ≈ 0, isolated from the rest of the data. This suggests a distinct viral lineage in that region."
      ],
      "metadata": {
        "id": "e0yycxaZ02s0"
      }
    },
    {
      "cell_type": "markdown",
      "source": [
        "Telengana samples form two or more separate bands, suggesting the presence of distinct sub-lineages circulating in the state."
      ],
      "metadata": {
        "id": "vv2uCxZh0V23"
      }
    },
    {
      "cell_type": "markdown",
      "source": [
        "Yes, tweaking parameters like perplexity and random_state can improve cluster visibility:\n",
        "\n",
        "Lower perplexity sharpens small clusters.\n",
        "\n",
        "Higher perplexity smoothens larger clusters."
      ],
      "metadata": {
        "id": "EwHlpJWR1KMq"
      }
    },
    {
      "cell_type": "code",
      "source": [
        "## First we need to get the list of all unique mutations observed in our dataset.\n",
        "\n",
        "mutations = []\n",
        "for i in range(len(data)):\n",
        "\n",
        "    sample_muts = data[\"Nuc_muts\"][i][1:][:-1].split(\",\")\n",
        "\n",
        "    for j in sample_muts:\n",
        "        mut = j.strip()[1:][:-1]\n",
        "        if(len(mut)>=2):\n",
        "            if(mut not in mutations):\n",
        "                mutations.append(mut)\n",
        "\n",
        "print(len(mutations))"
      ],
      "metadata": {
        "id": "kdRkrt2b20G_"
      },
      "execution_count": null,
      "outputs": []
    },
    {
      "cell_type": "code",
      "source": [
        "samplelist = data[\"StrainID\"].tolist()\n",
        "df = pd.DataFrame(columns = [*samplelist])\n",
        "df = df.replace(np.nan,0)\n",
        "\n",
        "for mutation in mutations:\n",
        "\n",
        "    dicti = dict(zip(samplelist, np.zeros(len(samplelist), dtype=int)))\n",
        "\n",
        "    for i in range(len(data)):\n",
        "        flag=0\n",
        "        strainid = data[\"StrainID\"][i]\n",
        "        sample_muts = data[\"Nuc_muts\"][i][1:][:-1].split(\",\")\n",
        "\n",
        "        for j in sample_muts:\n",
        "            mut = j.strip()[1:][:-1]\n",
        "            if(len(mut)>=2):\n",
        "                if(mut == mutation):\n",
        "                    flag = 1\n",
        "                    break\n",
        "\n",
        "        dicti[strainid]=flag\n",
        "\n",
        "    df = pd.concat([df, pd.DataFrame([dicti])], ignore_index=True)\n",
        "\n",
        "df = df.T\n",
        "\n",
        "df.tail()"
      ],
      "metadata": {
        "id": "SJ92n7TM21Jl"
      },
      "execution_count": null,
      "outputs": []
    },
    {
      "cell_type": "code",
      "source": [
        "pca = PCA()\n",
        "pca.fit(df)\n",
        "pca_data = pca.transform(df)"
      ],
      "metadata": {
        "id": "15N5tpdQYesM"
      },
      "execution_count": null,
      "outputs": []
    },
    {
      "cell_type": "code",
      "source": [
        "per_var = np.round(pca.explained_variance_ratio_* 100, decimals=1)\n",
        "labels_all = ['PC'+str(x) for x in range(1, len(per_var)+1)]\n",
        "per_var=per_var[:10]\n",
        "labels = [str(x) for x in range(1, len(per_var)+1)]\n",
        "\n",
        "with plt.style.context('dark_background'):\n",
        "    plt.figure(figsize = (15, 9))\n",
        "    plt.xlabel(\"Number of Principal Components\")\n",
        "    plt.ylabel(\"Percentage of variance explained\")\n",
        "    plt.bar(range(1,len(per_var)+1), per_var, tick_label=labels, color = \"aqua\")\n",
        "    plt.plot(range(1,len(per_var)+1), np.cumsum(per_var), color = \"red\")\n",
        "    plt.scatter(range(1,len(per_var)+1), np.cumsum(per_var), color = \"yellow\")"
      ],
      "metadata": {
        "id": "yztbT-o-Yi0C"
      },
      "execution_count": null,
      "outputs": []
    },
    {
      "cell_type": "code",
      "source": [
        "final_df = pd.DataFrame(columns=[\"StrainID\", \"PC1\", \"PC2\", \"State\"])\n",
        "pca_df = pd.DataFrame(pca_data, index=[*samplelist], columns = labels_all)\n",
        "\n",
        "for sample in pca_df.index:\n",
        "\n",
        "    dicti = dict()\n",
        "\n",
        "    dicti[\"StrainID\"] = sample\n",
        "    dicti[\"PC1\"] = pca_df.PC1.loc[sample]\n",
        "    dicti[\"PC2\"] = pca_df.PC2.loc[sample]\n",
        "    dicti[\"State\"] = data[data[\"StrainID\"]==sample][\"State\"].tolist()[0]\n",
        "\n",
        "    final_df = pd.concat([final_df, pd.DataFrame([dicti])], ignore_index=True)\n",
        "\n",
        "final_df.tail()"
      ],
      "metadata": {
        "id": "N148itkAYqPK"
      },
      "execution_count": null,
      "outputs": []
    },
    {
      "cell_type": "code",
      "source": [
        "for_x = final_df.PC1.tolist()\n",
        "for_y = final_df.PC2.tolist()\n",
        "for_states = final_df.State.tolist()\n",
        "for_hover = final_df.StrainID.tolist()\n",
        "\n",
        "fig = px.scatter(x=for_x, y=for_y, color=for_states, height=600, width=1200,\n",
        "                 title=\"Principal Component Axis\",\n",
        "                color_discrete_map={\n",
        "                \"Stateless\": \"grey\",\n",
        "                \"Tamil Nadu\": \"green\",\n",
        "                \"Telangana\": \"red\",\n",
        "                \"Maharashtra\": \"orange\",\n",
        "                \"Gujarat\": \"magenta\",\n",
        "                \"Delhi\": \"purple\",\n",
        "                \"West Bengal\": \"aqua\",\n",
        "                \"Haryana\": \"pink\",\n",
        "                \"Odisha\": \"blue\",\n",
        "                \"Madhya Pradesh\": \"brown\",\n",
        "                \"Karnataka\": \"black\"})\n",
        "fig.show(renderer = 'colab')"
      ],
      "metadata": {
        "id": "QW5zq8BtY1Fo"
      },
      "execution_count": null,
      "outputs": []
    },
    {
      "cell_type": "markdown",
      "source": [
        "1. The purple dots for Gujarat are grouped closely on the right. This means the virus in Gujarat had similar changes (mutations) in most cases.\n",
        "\n",
        "2. Dots for Maharashtra (orange), Telangana (red), and Tamil Nadu (green) are close together in some places. This shows they may have some common mutations, but also some differences.\n",
        "\n",
        "3. Some dots from Odisha, Delhi, and Karnataka are far away from the others. These could be rare or different virus types, or maybe came from people who traveled.\n",
        "\n",
        "\n",
        "4. The plot helps us see how similar or different the virus is across states, and shows how it might have spread in the country.\n"
      ],
      "metadata": {
        "id": "7jjzb8KwcuEV"
      }
    },
    {
      "cell_type": "code",
      "source": [
        "from sklearn.manifold import TSNE\n",
        "import plotly.express as px\n",
        "import numpy as np\n",
        "import pandas as pd\n",
        "\n",
        "random_state = 42\n",
        "n_components = 2\n",
        "perplexity = 30\n",
        "n_iter = 1000\n",
        "\n",
        "model = TSNE(n_components=n_components, random_state=random_state, perplexity=perplexity, n_iter=n_iter, init='pca', learning_rate='auto')\n",
        "tsne_data = model.fit_transform(df)\n",
        "\n",
        "final_df = pd.DataFrame(columns=[\"StrainID\", \"X\", \"Y\", \"State\"])\n",
        "samplelist = df.index.tolist()\n",
        "\n",
        "for i, sample in enumerate(samplelist):\n",
        "    strain_id = sample\n",
        "    x = tsne_data[i][0]\n",
        "    y = tsne_data[i][1]\n",
        "    state = data[data[\"StrainID\"] == strain_id][\"State\"].tolist()[0]\n",
        "    final_df = pd.concat([final_df, pd.DataFrame([{\"StrainID\": strain_id, \"X\": x, \"Y\": y, \"State\": state}])], ignore_index=True)\n",
        "\n",
        "fig = px.scatter(\n",
        "    x=final_df[\"X\"],\n",
        "    y=final_df[\"Y\"],\n",
        "    color=final_df[\"State\"],\n",
        "    title=\"t-SNE on Mutation Profiles\",\n",
        "    height=600,\n",
        "    width=1000,\n",
        "    color_discrete_map={\n",
        "        \"Stateless\": \"grey\",\n",
        "        \"Tamil Nadu\": \"green\",\n",
        "        \"Telangana\": \"red\",\n",
        "        \"Maharashtra\": \"orange\",\n",
        "        \"Gujarat\": \"magenta\",\n",
        "        \"Delhi\": \"purple\",\n",
        "        \"West Bengal\": \"aqua\",\n",
        "        \"Haryana\": \"pink\",\n",
        "        \"Odisha\": \"blue\",\n",
        "        \"Madhya Pradesh\": \"brown\",\n",
        "        \"Karnataka\": \"black\"\n",
        "    }\n",
        ")\n",
        "\n",
        "fig.show(renderer=\"colab\")\n"
      ],
      "metadata": {
        "id": "p98WqW2rcMPI"
      },
      "execution_count": null,
      "outputs": []
    },
    {
      "cell_type": "markdown",
      "source": [
        "1. Gujarat (magenta) points form a tight group on the right side of the plot. This means most sequences from Gujarat have similar mutations.\n",
        "\n",
        "2. Telangana (red), Maharashtra (orange), and Karnataka (black) are mixed in two nearby clusters, suggesting that some strains from these states are genetically similar.\n",
        "\n",
        "3. Odisha (blue) and West Bengal (aqua) are placed together in a tight group, showing similar mutation profiles.\n",
        "\n",
        "4. A few points from states like Delhi (purple), Tamil Nadu (green), and Kerala (brown) are far away from the main clusters. These could be unique strains or outliers.\n",
        "\n",
        "5. Overall, t-SNE was able to separate some states clearly and gave a better view of possible mutation clusters.\n"
      ],
      "metadata": {
        "id": "MK7t1orNe6DF"
      }
    },
    {
      "cell_type": "code",
      "source": [
        "from sklearn.manifold import Isomap\n",
        "\n",
        "n_neighbors = 5\n",
        "n_components = 2\n",
        "\n",
        "model_iso = Isomap(n_neighbors=n_neighbors, n_components=n_components)\n",
        "iso_data = model_iso.fit_transform(df)\n",
        "\n",
        "final_df = pd.DataFrame(columns=[\"StrainID\", \"X\", \"Y\", \"State\"])\n",
        "samplelist = df.index.tolist()\n",
        "\n",
        "for i, sample in enumerate(samplelist):\n",
        "    strain_id = sample\n",
        "    x = iso_data[i][0]\n",
        "    y = iso_data[i][1]\n",
        "    state = data[data[\"StrainID\"] == strain_id][\"State\"].tolist()[0]\n",
        "    final_df = pd.concat([final_df, pd.DataFrame([{\"StrainID\": strain_id, \"X\": x, \"Y\": y, \"State\": state}])], ignore_index=True)\n",
        "\n",
        "fig = px.scatter(\n",
        "    x=final_df[\"X\"],\n",
        "    y=final_df[\"Y\"],\n",
        "    color=final_df[\"State\"],\n",
        "    title=\"ISOMAP on Mutation Profiles\",\n",
        "    height=600,\n",
        "    width=1000\n",
        ")\n",
        "\n",
        "fig.show(renderer=\"colab\")\n"
      ],
      "metadata": {
        "id": "GFa4VhaPc1s7"
      },
      "execution_count": null,
      "outputs": []
    }
  ]
}